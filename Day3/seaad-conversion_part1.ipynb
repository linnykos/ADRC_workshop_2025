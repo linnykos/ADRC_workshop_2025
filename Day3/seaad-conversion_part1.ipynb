{
 "cells": [
  {
   "cell_type": "code",
   "execution_count": 1,
   "id": "4df129e7",
   "metadata": {},
   "outputs": [],
   "source": [
    "import anndata as ad\n",
    "import pandas as pd\n",
    "import scanpy as sc\n",
    "from pathlib import Path                \n",
    "from scipy.io import mmwrite            "
   ]
  },
  {
   "cell_type": "code",
   "execution_count": 2,
   "id": "27c36e8a",
   "metadata": {},
   "outputs": [
    {
     "name": "stdout",
     "output_type": "stream",
     "text": [
      "Package             Version\n",
      "------------------- ------------\n",
      "absl-py             2.1.0\n",
      "aiohttp             3.9.5\n",
      "aiosignal           1.3.1\n",
      "anndata             0.10.8\n",
      "appnope             0.1.4\n",
      "array_api_compat    1.7.1\n",
      "asttokens           2.4.1\n",
      "async-timeout       4.0.3\n",
      "attrs               23.2.0\n",
      "chex                0.1.86\n",
      "click               8.1.8\n",
      "comm                0.2.2\n",
      "contextlib2         21.6.0\n",
      "contourpy           1.2.1\n",
      "cycler              0.12.1\n",
      "debugpy             1.6.7\n",
      "decorator           5.1.1\n",
      "docrep              0.3.2\n",
      "etils               1.5.2\n",
      "exceptiongroup      1.2.0\n",
      "executing           2.0.1\n",
      "filelock            3.15.4\n",
      "flax                0.8.5\n",
      "fonttools           4.53.1\n",
      "frozenlist          1.4.1\n",
      "fsspec              2024.6.1\n",
      "get-annotations     0.1.2\n",
      "h5py                3.11.0\n",
      "idna                3.7\n",
      "igraph              0.11.8\n",
      "importlib_metadata  8.0.0\n",
      "importlib_resources 6.4.0\n",
      "ipykernel           6.29.5\n",
      "ipython             8.18.1\n",
      "jax                 0.4.30\n",
      "jaxlib              0.4.30\n",
      "jedi                0.19.1\n",
      "Jinja2              3.1.4\n",
      "joblib              1.4.2\n",
      "jupyter_client      8.6.2\n",
      "jupyter_core        5.7.2\n",
      "kiwisolver          1.4.5\n",
      "legacy-api-wrap     1.4\n",
      "lightning           2.1.4\n",
      "lightning-utilities 0.11.3.post0\n",
      "llvmlite            0.43.0\n",
      "loompy              3.0.7\n",
      "markdown-it-py      3.0.0\n",
      "MarkupSafe          2.1.5\n",
      "matplotlib          3.9.1\n",
      "matplotlib-inline   0.1.7\n",
      "mdurl               0.1.2\n",
      "ml-collections      0.1.1\n",
      "ml-dtypes           0.4.0\n",
      "mpmath              1.3.0\n",
      "msgpack             1.0.8\n",
      "mudata              0.2.4\n",
      "multidict           6.0.5\n",
      "multipledispatch    1.0.0\n",
      "natsort             8.4.0\n",
      "nest_asyncio        1.6.0\n",
      "networkx            3.2.1\n",
      "numba               0.60.0\n",
      "numpy               1.26.4\n",
      "numpy-groupies      0.11.2\n",
      "numpyro             0.15.0\n",
      "opt-einsum          3.3.0\n",
      "optax               0.2.3\n",
      "orbax-checkpoint    0.5.20\n",
      "packaging           24.1\n",
      "pandas              2.2.2\n",
      "parso               0.8.4\n",
      "patsy               0.5.6\n",
      "pexpect             4.9.0\n",
      "pickleshare         0.7.5\n",
      "pillow              10.4.0\n",
      "pip                 24.0\n",
      "platformdirs        4.2.2\n",
      "prompt_toolkit      3.0.47\n",
      "protobuf            5.27.2\n",
      "psutil              5.8.0\n",
      "ptyprocess          0.7.0\n",
      "pure-eval           0.2.2\n",
      "Pygments            2.18.0\n",
      "pynndescent         0.5.13\n",
      "pyparsing           3.1.2\n",
      "pyro-api            0.1.2\n",
      "pyro-ppl            1.9.1\n",
      "python-dateutil     2.9.0\n",
      "pytorch-lightning   2.3.3\n",
      "pytz                2024.1\n",
      "PyYAML              6.0.1\n",
      "pyzmq               25.1.2\n",
      "rich                13.7.1\n",
      "scanpy              1.10.2\n",
      "scikit-learn        1.5.1\n",
      "scipy               1.13.1\n",
      "scvelo              0.3.3\n",
      "scvi-tools          1.1.5\n",
      "seaborn             0.13.2\n",
      "session-info        1.0.0\n",
      "setuptools          69.5.1\n",
      "six                 1.16.0\n",
      "stack-data          0.6.2\n",
      "statsmodels         0.14.2\n",
      "stdlib-list         0.10.0\n",
      "sympy               1.13.0\n",
      "tensorstore         0.1.63\n",
      "texttable           1.7.0\n",
      "threadpoolctl       3.5.0\n",
      "toolz               0.12.1\n",
      "torch               2.3.1\n",
      "torchmetrics        1.4.0.post0\n",
      "tornado             6.4.1\n",
      "tqdm                4.66.4\n",
      "traitlets           5.14.3\n",
      "typing_extensions   4.12.2\n",
      "tzdata              2024.1\n",
      "umap-learn          0.5.6\n",
      "wcwidth             0.2.13\n",
      "wheel               0.43.0\n",
      "yarl                1.9.4\n",
      "zipp                3.19.2\n"
     ]
    }
   ],
   "source": [
    "!pip list"
   ]
  },
  {
   "cell_type": "code",
   "execution_count": 3,
   "id": "f1327e53",
   "metadata": {},
   "outputs": [
    {
     "data": {
      "text/plain": [
       "AnnData object with n_obs × n_vars = 40000 × 36412\n",
       "    obs: 'assay_ontology_term_id', 'cell_type_ontology_term_id', 'disease_ontology_term_id', 'self_reported_ethnicity_ontology_term_id', 'sex_ontology_term_id', 'tissue_ontology_term_id', 'is_primary_data', 'Neurotypical reference', 'Class', 'Subclass', 'Supertype', 'Age at death', 'Years of education', 'Cognitive status', 'ADNC', 'Braak stage', 'Thal phase', 'CERAD score', 'APOE4 status', 'Lewy body disease pathology', 'LATE-NC stage', 'Microinfarct pathology', 'Specimen ID', 'donor_id', 'PMI', 'Number of UMIs', 'Genes detected', 'Fraction mitochrondrial UMIs', 'suspension_type', 'development_stage_ontology_term_id', 'Continuous Pseudo-progression Score', 'tissue_type', 'cell_type', 'assay', 'disease', 'sex', 'tissue', 'self_reported_ethnicity', 'development_stage', 'observation_joinid'\n",
       "    var: 'feature_is_filtered', 'feature_name', 'feature_reference', 'feature_biotype', 'feature_length', 'feature_type'\n",
       "    uns: 'ADNC_colors', 'APOE4 status_colors', 'Age at death_colors', 'Braak stage_colors', 'CERAD score_colors', 'Cognitive status_colors', 'Great Apes Metadata', 'LATE-NC stage_colors', 'Lewy body disease pathology_colors', 'Microinfarct pathology_colors', 'PMI_colors', 'Subclass_colors', 'Supertype_colors', 'Thal phase_colors', 'UW Clinical Metadata', 'Years of education_colors', 'batch_condition', 'citation', 'default_embedding', 'neighbors', 'organism', 'organism_ontology_term_id', 'schema_reference', 'schema_version', 'sex_ontology_term_id_colors', 'title', 'umap'\n",
       "    obsm: 'X_scVI', 'X_umap'\n",
       "    obsp: 'connectivities', 'distances'"
      ]
     },
     "execution_count": 3,
     "metadata": {},
     "output_type": "execute_result"
    }
   ],
   "source": [
    "# from https://cellxgene.cziscience.com/collections/1ca90a2d-2943-483d-b678-b809bf464c30\n",
    "# These are the \"Microglia-PVM - MTG: Seattle Alzheimer's Disease Atlas (SEA-AD)\" cells\n",
    "\n",
    "adata = ad.read_h5ad(\"/Users/kevinlin/Library/CloudStorage/Dropbox/Collaboration-and-People/sumie-katie/out/ADRC_workshop_2025/ec43c19b-1693-42c8-9200-423d649aa8cf.h5ad\")\n",
    "adata"
   ]
  },
  {
   "cell_type": "code",
   "execution_count": 4,
   "id": "7ba3b87b",
   "metadata": {},
   "outputs": [
    {
     "name": "stdout",
     "output_type": "stream",
     "text": [
      "Index(['ENSG00000000003', 'ENSG00000000005', 'ENSG00000000419',\n",
      "       'ENSG00000000457', 'ENSG00000000460', 'ENSG00000000938',\n",
      "       'ENSG00000000971', 'ENSG00000001036', 'ENSG00000001084',\n",
      "       'ENSG00000001167',\n",
      "       ...\n",
      "       'ENSG00000288616', 'ENSG00000288631', 'ENSG00000288642',\n",
      "       'ENSG00000288649', 'ENSG00000288675', 'ENSG00000288701',\n",
      "       'ENSG00000288702', 'ENSG00000288705', 'ENSG00000288709',\n",
      "       'ENSG00000288722'],\n",
      "      dtype='object', length=36412)\n",
      "Index(['TSPAN6', 'TNMD', 'DPM1', 'SCYL3', 'C1orf112', 'FGR', 'CFH', 'FUCA2',\n",
      "       'GCLC', 'NFYA',\n",
      "       ...\n",
      "       'ELOA3DP', 'ELOA3P', 'CDR1', 'ACTL10', 'PANO1', 'PRRC2B', 'UGT1A3',\n",
      "       'UGT1A5', 'F8A2', 'F8A1'],\n",
      "      dtype='object', name='feature_name', length=36412)\n"
     ]
    }
   ],
   "source": [
    "# Replace all the genes by canonical names\n",
    "print(adata.var_names)\n",
    "adata.var_names = adata.var[\"feature_name\"].astype(str)\n",
    "print(adata.var_names)"
   ]
  },
  {
   "cell_type": "code",
   "execution_count": 5,
   "id": "f09d1e68",
   "metadata": {},
   "outputs": [
    {
     "data": {
      "text/plain": [
       "AnnData object with n_obs × n_vars = 40000 × 36412\n",
       "    obs: 'assay_ontology_term_id', 'cell_type_ontology_term_id', 'disease_ontology_term_id', 'self_reported_ethnicity_ontology_term_id', 'sex_ontology_term_id', 'tissue_ontology_term_id', 'is_primary_data', 'Neurotypical reference', 'Class', 'Subclass', 'Supertype', 'Age at death', 'Years of education', 'Cognitive status', 'ADNC', 'Braak stage', 'Thal phase', 'CERAD score', 'APOE4 status', 'Lewy body disease pathology', 'LATE-NC stage', 'Microinfarct pathology', 'Specimen ID', 'donor_id', 'PMI', 'Number of UMIs', 'Genes detected', 'Fraction mitochrondrial UMIs', 'suspension_type', 'development_stage_ontology_term_id', 'Continuous Pseudo-progression Score', 'tissue_type', 'cell_type', 'assay', 'disease', 'sex', 'tissue', 'self_reported_ethnicity', 'development_stage', 'observation_joinid'\n",
       "    var: 'feature_is_filtered', 'feature_name', 'feature_reference', 'feature_biotype', 'feature_length', 'feature_type'\n",
       "    obsm: 'X_scVI', 'X_umap'\n",
       "    obsp: 'connectivities', 'distances'"
      ]
     },
     "execution_count": 5,
     "metadata": {},
     "output_type": "execute_result"
    }
   ],
   "source": [
    "# remove every entry stored in .uns\n",
    "adata.uns.clear()          # empties the dict in-place\n",
    "adata"
   ]
  },
  {
   "cell_type": "code",
   "execution_count": 6,
   "id": "7fb83623",
   "metadata": {},
   "outputs": [
    {
     "data": {
      "text/plain": [
       "AnnData object with n_obs × n_vars = 40000 × 36412\n",
       "    obs: 'assay_ontology_term_id', 'cell_type_ontology_term_id', 'disease_ontology_term_id', 'self_reported_ethnicity_ontology_term_id', 'sex_ontology_term_id', 'tissue_ontology_term_id', 'is_primary_data', 'Neurotypical reference', 'Class', 'Subclass', 'Supertype', 'Age at death', 'Years of education', 'Cognitive status', 'ADNC', 'Braak stage', 'Thal phase', 'CERAD score', 'APOE4 status', 'Lewy body disease pathology', 'LATE-NC stage', 'Microinfarct pathology', 'Specimen ID', 'donor_id', 'PMI', 'Number of UMIs', 'Genes detected', 'Fraction mitochrondrial UMIs', 'suspension_type', 'development_stage_ontology_term_id', 'Continuous Pseudo-progression Score', 'tissue_type', 'cell_type', 'assay', 'disease', 'sex', 'tissue', 'self_reported_ethnicity', 'development_stage', 'observation_joinid'\n",
       "    var: 'feature_is_filtered', 'feature_name', 'feature_reference', 'feature_biotype', 'feature_length', 'feature_type'\n",
       "    obsm: 'X_scVI', 'X_umap'\n",
       "    obsp: 'connectivities', 'distances'"
      ]
     },
     "execution_count": 6,
     "metadata": {},
     "output_type": "execute_result"
    }
   ],
   "source": [
    "# remove every matrix stored in .layers\n",
    "adata.layers.clear()      # empties the mapping in-place\n",
    "adata"
   ]
  },
  {
   "cell_type": "code",
   "execution_count": 7,
   "id": "56622906",
   "metadata": {},
   "outputs": [
    {
     "data": {
      "text/plain": [
       "AnnData object with n_obs × n_vars = 40000 × 36412\n",
       "    obs: 'assay_ontology_term_id', 'cell_type_ontology_term_id', 'disease_ontology_term_id', 'self_reported_ethnicity_ontology_term_id', 'sex_ontology_term_id', 'tissue_ontology_term_id', 'is_primary_data', 'Neurotypical reference', 'Class', 'Subclass', 'Supertype', 'Age at death', 'Years of education', 'Cognitive status', 'ADNC', 'Braak stage', 'Thal phase', 'CERAD score', 'APOE4 status', 'Lewy body disease pathology', 'LATE-NC stage', 'Microinfarct pathology', 'Specimen ID', 'donor_id', 'PMI', 'Number of UMIs', 'Genes detected', 'Fraction mitochrondrial UMIs', 'suspension_type', 'development_stage_ontology_term_id', 'Continuous Pseudo-progression Score', 'tissue_type', 'cell_type', 'assay', 'disease', 'sex', 'tissue', 'self_reported_ethnicity', 'development_stage', 'observation_joinid'\n",
       "    var: 'feature_is_filtered', 'feature_name', 'feature_reference', 'feature_biotype', 'feature_length', 'feature_type'\n",
       "    obsm: 'X_scVI', 'X_umap'"
      ]
     },
     "execution_count": 7,
     "metadata": {},
     "output_type": "execute_result"
    }
   ],
   "source": [
    "# delete all connectivities / distance matrices\n",
    "adata.obsp.clear()        # empties the mapping in-place\n",
    "adata"
   ]
  },
  {
   "cell_type": "code",
   "execution_count": 8,
   "id": "961e37e9",
   "metadata": {},
   "outputs": [
    {
     "data": {
      "text/plain": [
       "array([[0., 0., 2., 0., 0.],\n",
       "       [0., 0., 0., 0., 0.],\n",
       "       [0., 0., 3., 0., 0.],\n",
       "       [0., 0., 0., 2., 1.],\n",
       "       [0., 0., 0., 0., 0.]], dtype=float32)"
      ]
     },
     "execution_count": 8,
     "metadata": {},
     "output_type": "execute_result"
    }
   ],
   "source": [
    "# This is the raw count data\n",
    "adata.raw.X[0:5,0:5].toarray()"
   ]
  },
  {
   "cell_type": "code",
   "execution_count": 9,
   "id": "ec2d06a2",
   "metadata": {},
   "outputs": [],
   "source": [
    "# 1) Make a *stand-alone* AnnData that holds exactly what is in `adata.raw`\n",
    "adata_raw = adata.raw.to_adata()         # copies only X/var/obs_names; cheap for sparse matrices\n",
    "\n",
    "# 2) Choose an output directory\n",
    "out_dir = Path(\"/Users/kevinlin/Library/CloudStorage/Dropbox/Collaboration-and-People/sumie-katie/out/ADRC_workshop_2025/adata_raw_10x\")\n",
    "out_dir.mkdir(exist_ok=True)\n",
    "\n",
    "# 3) (a) Write the matrix in Matrix Market format\n",
    "mmwrite(out_dir / \"matrix.mtx\", adata_raw.X.T.tocsr())   # .tocsr() is a no-op if already CSR\n",
    "\n",
    "#    (b) Write the feature table\n",
    "#        • column order: <gene_id> <gene_name> <feature_type>\n",
    "#        • 10x v3+ spec calls this 'features.tsv' (earlier kits used 'genes.tsv')\n",
    "features = adata_raw.var\n",
    "features_out = pd.DataFrame({\n",
    "    \"gene_id\"      : features.index,           # or another stable identifier\n",
    "    \"gene_name\"    : features[\"feature_name\"],\n",
    "    \"feature_type\" : features.get(\"feature_biotype\", \"Gene\")  # fall back to \"Gene\"\n",
    "})\n",
    "features_out.to_csv(out_dir / \"features.tsv\", sep=\"\\t\", header=False, index=False)\n",
    "\n",
    "#    (c) Write the barcode file\n",
    "pd.Series(adata_raw.obs_names).to_csv(out_dir / \"barcodes.tsv\", header=False, index=False)"
   ]
  },
  {
   "cell_type": "code",
   "execution_count": 10,
   "id": "8822db04",
   "metadata": {},
   "outputs": [
    {
     "data": {
      "text/plain": [
       "AnnData object with n_obs × n_vars = 40000 × 36412\n",
       "    obs: 'assay_ontology_term_id', 'cell_type_ontology_term_id', 'disease_ontology_term_id', 'self_reported_ethnicity_ontology_term_id', 'sex_ontology_term_id', 'tissue_ontology_term_id', 'is_primary_data', 'Neurotypical reference', 'Class', 'Subclass', 'Supertype', 'Age at death', 'Years of education', 'Cognitive status', 'ADNC', 'Braak stage', 'Thal phase', 'CERAD score', 'APOE4 status', 'Lewy body disease pathology', 'LATE-NC stage', 'Microinfarct pathology', 'Specimen ID', 'donor_id', 'PMI', 'Number of UMIs', 'Genes detected', 'Fraction mitochrondrial UMIs', 'suspension_type', 'development_stage_ontology_term_id', 'Continuous Pseudo-progression Score', 'tissue_type', 'cell_type', 'assay', 'disease', 'sex', 'tissue', 'self_reported_ethnicity', 'development_stage', 'observation_joinid'\n",
       "    var: 'feature_is_filtered', 'feature_name', 'feature_reference', 'feature_biotype', 'feature_length', 'feature_type'\n",
       "    obsm: 'X_scVI', 'X_umap'"
      ]
     },
     "execution_count": 10,
     "metadata": {},
     "output_type": "execute_result"
    }
   ],
   "source": [
    "# delete raw data\n",
    "adata.raw = None        # empties the mapping in-place\n",
    "adata"
   ]
  },
  {
   "cell_type": "code",
   "execution_count": 11,
   "id": "697d3d1e",
   "metadata": {},
   "outputs": [
    {
     "data": {
      "text/plain": [
       "array([[0.       , 0.       , 1.0842869, 0.       , 0.       ],\n",
       "       [0.       , 0.       , 0.       , 0.       , 0.       ],\n",
       "       [0.       , 0.       , 1.8683271, 0.       , 0.       ],\n",
       "       [0.       , 0.       , 0.       , 1.5740774, 1.0692327],\n",
       "       [0.       , 0.       , 0.       , 0.       , 0.       ]],\n",
       "      dtype=float32)"
      ]
     },
     "execution_count": 11,
     "metadata": {},
     "output_type": "execute_result"
    }
   ],
   "source": [
    "# This is the normalized data\n",
    "adata.X[0:5,0:5].toarray()"
   ]
  },
  {
   "cell_type": "code",
   "execution_count": 12,
   "id": "f2c4c71b",
   "metadata": {},
   "outputs": [
    {
     "data": {
      "text/plain": [
       "AnnData object with n_obs × n_vars = 40000 × 36412\n",
       "    var: 'feature_is_filtered', 'feature_name', 'feature_reference', 'feature_biotype', 'feature_length', 'feature_type'\n",
       "    obsm: 'X_scVI', 'X_umap'"
      ]
     },
     "execution_count": 12,
     "metadata": {},
     "output_type": "execute_result"
    }
   ],
   "source": [
    "# Save obs metadata to CSV\n",
    "adata.obs.to_csv(\"/Users/kevinlin/Library/CloudStorage/Dropbox/Collaboration-and-People/sumie-katie/out/ADRC_workshop_2025/adata_obs.csv\")\n",
    "adata.obs = pd.DataFrame(index=adata.obs.index)  # Keep only the cell barcodes\n",
    "adata"
   ]
  },
  {
   "cell_type": "code",
   "execution_count": 13,
   "id": "9d4d29ea",
   "metadata": {},
   "outputs": [
    {
     "data": {
      "text/plain": [
       "AnnData object with n_obs × n_vars = 40000 × 36412\n",
       "    obsm: 'X_scVI', 'X_umap'"
      ]
     },
     "execution_count": 13,
     "metadata": {},
     "output_type": "execute_result"
    }
   ],
   "source": [
    "# Save var metadata to CSV\n",
    "adata.var.to_csv(\"/Users/kevinlin/Library/CloudStorage/Dropbox/Collaboration-and-People/sumie-katie/out/ADRC_workshop_2025/adata_var.csv\")\n",
    "adata.var = pd.DataFrame(index=adata.var.index)  # Keep only the cell barcodes\n",
    "adata"
   ]
  },
  {
   "cell_type": "code",
   "execution_count": 14,
   "id": "11fc0d2a",
   "metadata": {},
   "outputs": [],
   "source": [
    "adata.write_h5ad(\n",
    "\"/Users/kevinlin/Library/CloudStorage/Dropbox/Collaboration-and-People/sumie-katie/out/ADRC_workshop_2025/adata_simplified.h5ad\",\n",
    "    compression='gzip', \n",
    "    compression_opts=9\n",
    ")\n"
   ]
  }
 ],
 "metadata": {
  "kernelspec": {
   "display_name": "Python 3",
   "language": "python",
   "name": "python3"
  },
  "language_info": {
   "codemirror_mode": {
    "name": "ipython",
    "version": 3
   },
   "file_extension": ".py",
   "mimetype": "text/x-python",
   "name": "python",
   "nbconvert_exporter": "python",
   "pygments_lexer": "ipython3",
   "version": "3.9.19"
  }
 },
 "nbformat": 4,
 "nbformat_minor": 5
}
